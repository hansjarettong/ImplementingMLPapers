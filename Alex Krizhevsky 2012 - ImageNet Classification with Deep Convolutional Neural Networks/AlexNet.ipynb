{
 "cells": [
  {
   "cell_type": "code",
   "execution_count": 1,
   "metadata": {},
   "outputs": [],
   "source": [
    "import torch\n",
    "import torch.nn as nn\n",
    "import torch.nn.functional as F"
   ]
  },
  {
   "cell_type": "markdown",
   "metadata": {},
   "source": [
    "<img src = \"alexnet.png\">"
   ]
  },
  {
   "cell_type": "markdown",
   "metadata": {},
   "source": [
    "Although not mentioned, it seems that they were using `padding = (kernel_size - 1) / 2` for each conv layer."
   ]
  },
  {
   "cell_type": "code",
   "execution_count": 2,
   "metadata": {},
   "outputs": [],
   "source": [
    "class _AlexNet1(nn.Module):\n",
    "    def __init__(self):\n",
    "        super().__init__()\n",
    "        self.conv1 = nn.Conv2d(3, 48, 11, stride = 4, padding = 2)\n",
    "        self.conv2 = nn.Conv2d(48, 128, 5, padding = 2)\n",
    "        self.res_norm = nn.LocalResponseNorm(5, k = 2)\n",
    "        self.max_pool = nn.MaxPool2d(3, 2)\n",
    "        \n",
    "    def forward(self, x):\n",
    "        x = F.relu(self.conv1(x))\n",
    "        x = self.res_norm(x)\n",
    "        x = self.max_pool(x)\n",
    "        x = F.relu(self.conv2(x))\n",
    "        return x"
   ]
  },
  {
   "cell_type": "code",
   "execution_count": 3,
   "metadata": {},
   "outputs": [],
   "source": [
    "class _AlexNet2(nn.Module):\n",
    "    def __init__(self):\n",
    "        super().__init__()\n",
    "        self.res_norm = nn.LocalResponseNorm(5, k = 2)\n",
    "        self.max_pool = nn.MaxPool2d(3, 2)\n",
    "        self.conv3 = nn.Conv2d(256, 192, 3, padding = 1)\n",
    "        self.conv4 = nn.Conv2d(192, 192, 3, padding = 1)\n",
    "        self.conv5 = nn.Conv2d(192, 128, 3, padding = 1)\n",
    "        \n",
    "        \n",
    "    def forward(self, x):\n",
    "        x = self.res_norm(x)\n",
    "        x = self.max_pool(x)\n",
    "        x = F.relu(self.conv3(x))\n",
    "        x = F.relu(self.conv4(x))\n",
    "        x = F.relu(self.conv5(x))\n",
    "        return x\n",
    "        "
   ]
  },
  {
   "cell_type": "code",
   "execution_count": 4,
   "metadata": {},
   "outputs": [],
   "source": [
    "class AlexNet(nn.Module):\n",
    "    def __init__(self):\n",
    "        super().__init__()\n",
    "        self.max_pool = nn.MaxPool2d(3, 2)\n",
    "        self.alexnet1a = _AlexNet1()\n",
    "        self.alexnet1b = _AlexNet1()\n",
    "        self.alexnet2a = _AlexNet2()\n",
    "        self.alexnet2b = _AlexNet2()\n",
    "        self.fc1 = nn.Linear(9216,4096)\n",
    "        self.fc2 = nn.Linear(4096,4096)\n",
    "        self.fc3 = nn.Linear(4096,1000)\n",
    "        \n",
    "    def forward(self, x):\n",
    "        x1 = self.alexnet1a(x)\n",
    "        x2 = self.alexnet1b(x)\n",
    "        x = torch.cat([x1,x2], dim = 1)\n",
    "        x1 = self.alexnet2a(x)\n",
    "        x2 = self.alexnet2b(x)\n",
    "        x = torch.cat([x1,x2], dim = 1)\n",
    "        x = self.max_pool(x)\n",
    "        x = x.flatten(start_dim = 1)\n",
    "        x = F.relu(self.fc1(x))\n",
    "        x = F.relu(self.fc2(x))\n",
    "        x = F.relu(self.fc3(x))\n",
    "        return x"
   ]
  },
  {
   "cell_type": "code",
   "execution_count": null,
   "metadata": {},
   "outputs": [],
   "source": []
  }
 ],
 "metadata": {
  "kernelspec": {
   "display_name": "Python 3",
   "language": "python",
   "name": "python3"
  },
  "language_info": {
   "codemirror_mode": {
    "name": "ipython",
    "version": 3
   },
   "file_extension": ".py",
   "mimetype": "text/x-python",
   "name": "python",
   "nbconvert_exporter": "python",
   "pygments_lexer": "ipython3",
   "version": "3.7.4"
  }
 },
 "nbformat": 4,
 "nbformat_minor": 2
}
